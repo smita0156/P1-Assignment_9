{
 "cells": [
  {
   "cell_type": "code",
   "execution_count": null,
   "id": "bead57d5-583e-450a-b8ad-7826613e65b1",
   "metadata": {},
   "outputs": [],
   "source": [
    "1. To what does a relative path refer?"
   ]
  },
  {
   "cell_type": "code",
   "execution_count": null,
   "id": "6ffa809a-eb05-4731-aceb-54112c2c4759",
   "metadata": {},
   "outputs": [],
   "source": [
    "Answer: the current working directory"
   ]
  },
  {
   "cell_type": "code",
   "execution_count": null,
   "id": "d37e1236-a225-4307-abbd-de59b33293eb",
   "metadata": {},
   "outputs": [],
   "source": [
    "2. What does an absolute path start with your operating system?"
   ]
  },
  {
   "cell_type": "code",
   "execution_count": null,
   "id": "a96b5211-3667-4727-96e0-76d37b3134c0",
   "metadata": {},
   "outputs": [],
   "source": [
    "Answer: the root folder, such as / or C:\\"
   ]
  },
  {
   "cell_type": "code",
   "execution_count": null,
   "id": "be0c4235-bdc6-4323-b87b-55b00c26063b",
   "metadata": {},
   "outputs": [],
   "source": [
    "3. What do the functions os.getcwd() and os.chdir() do?"
   ]
  },
  {
   "cell_type": "code",
   "execution_count": null,
   "id": "0c3f6ac4-1852-4df0-9271-20dbad2b58c5",
   "metadata": {},
   "outputs": [],
   "source": [
    "Answer: os.getcwd() returns the current working directory os.chdir() function changes the current working directory"
   ]
  },
  {
   "cell_type": "code",
   "execution_count": null,
   "id": "00869df0-6746-4bde-80af-27c2adb3dfb7",
   "metadata": {},
   "outputs": [],
   "source": [
    "4. What are the . and .. folders?"
   ]
  },
  {
   "cell_type": "code",
   "execution_count": null,
   "id": "fd883091-8737-4e5e-9260-aa24e7b93917",
   "metadata": {},
   "outputs": [],
   "source": [
    "Answer: . folder is the current folder, and .. is the parent folder."
   ]
  },
  {
   "cell_type": "code",
   "execution_count": null,
   "id": "775197c4-33b5-4afb-9406-327e39d48cbf",
   "metadata": {},
   "outputs": [],
   "source": [
    "5. In C:\\bacon\\eggs\\spam.txt, which part is the dir name, and which part is the base name?"
   ]
  },
  {
   "cell_type": "code",
   "execution_count": null,
   "id": "2ec2a710-7d2d-4aad-96bd-c9ea632039b2",
   "metadata": {},
   "outputs": [],
   "source": [
    "Answer: C:\\bacon\\eggs is the dir name, spam.txt is the base name"
   ]
  },
  {
   "cell_type": "code",
   "execution_count": null,
   "id": "9e33edd6-0834-422f-b21f-72ef7254a1c2",
   "metadata": {},
   "outputs": [],
   "source": [
    "6. What are the three “mode” arguments that can be passed to the open() function?"
   ]
  },
  {
   "cell_type": "code",
   "execution_count": null,
   "id": "2e3879cd-a63e-4111-92cc-353a38acdca6",
   "metadata": {},
   "outputs": [],
   "source": [
    "Answer: 'r' for read mode, 'w' for write mode, 'a' for append mode"
   ]
  },
  {
   "cell_type": "code",
   "execution_count": null,
   "id": "b9fdb306-b417-4086-80e5-50cab38765e7",
   "metadata": {},
   "outputs": [],
   "source": [
    "7. What happens if an existing file is opened in write mode?"
   ]
  },
  {
   "cell_type": "code",
   "execution_count": null,
   "id": "fb69a34c-e27c-4c24-a501-8d70a46071f9",
   "metadata": {},
   "outputs": [],
   "source": [
    "Answer: is erased and completely overwritten"
   ]
  },
  {
   "cell_type": "code",
   "execution_count": null,
   "id": "75142bc8-7e25-4d21-a812-71d4ec96af60",
   "metadata": {},
   "outputs": [],
   "source": [
    "8. How do you tell the difference between read() and readlines()?"
   ]
  },
  {
   "cell_type": "code",
   "execution_count": null,
   "id": "9a99f252-f9f3-425e-bd55-bba4139676c4",
   "metadata": {},
   "outputs": [],
   "source": [
    "Answer: read() returns the ﬁle’s entire contents as a single string value, readlines() returns a list of strings, where each string is a line from the ﬁle’s contents."
   ]
  },
  {
   "cell_type": "code",
   "execution_count": null,
   "id": "150084c5-5462-4577-aab3-6e39775accc5",
   "metadata": {},
   "outputs": [],
   "source": [
    "9. What data structure does a shelf value resemble?"
   ]
  },
  {
   "cell_type": "code",
   "execution_count": null,
   "id": "1f306680-0061-4051-900a-121dd0d2b666",
   "metadata": {},
   "outputs": [],
   "source": [
    "Answer: a dictionary value; it has keys and values, along with keys() and values() methods that work similarly to the dictionary methods of the same names."
   ]
  },
  {
   "cell_type": "code",
   "execution_count": null,
   "id": "a00b9601-6d51-4fed-92c2-58d8a719bd2e",
   "metadata": {},
   "outputs": [],
   "source": []
  }
 ],
 "metadata": {
  "kernelspec": {
   "display_name": "Python 3 (ipykernel)",
   "language": "python",
   "name": "python3"
  },
  "language_info": {
   "codemirror_mode": {
    "name": "ipython",
    "version": 3
   },
   "file_extension": ".py",
   "mimetype": "text/x-python",
   "name": "python",
   "nbconvert_exporter": "python",
   "pygments_lexer": "ipython3",
   "version": "3.10.6"
  }
 },
 "nbformat": 4,
 "nbformat_minor": 5
}
